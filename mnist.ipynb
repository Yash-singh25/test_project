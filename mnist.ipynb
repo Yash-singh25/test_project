
### importing all the neccessary libraries

import tensorflow as tf
import pandas as pd
import matplotlib.pyplot as plt
import numpy as np

df = tf.keras.datasets.mnist
(x_train , y_train) , (x_test , y_test) = df.load_data()
print('the shape of x_train is' , x_train.shape)                 ### checking the shape of training dataset
print('the shape of x_test is' , x_test.shape)                   ### checking the shape of testing dataset

####### Normalization of data(to bring them in same scale)
x_train = x_train/255.0
x_test = x_test/255.0

csv_columns = ['0','1','2','3','4','5','6','7','8','9']

########## plotting 25 images
plt.figure(figsize=(10,10))
for i in range(25):
  plt.subplot(5,5,i+1)
  plt.xticks([])
  plt.yticks([])
  plt.imshow(x_train[i] , cmap=plt.cm.gray_r)
  plt.xlabel(csv_columns[y_train[i]])
plt.show()

######## Building model
model = tf.keras.models.Sequential()
model.add(tf.keras.layers.Flatten(input_shape = (28,28)))
model.add(tf.keras.layers.Dense(64 , activation = 'relu'))
model.add(tf.keras.layers.Dense(64 , activation = 'relu'))
model.add(tf.keras.layers.Dense(10))

#######compiling the model
model.compile(optimizer='adam' , loss = tf.keras.losses.SparseCategoricalCrossentropy(from_logits=True) , metrics=['accuracy'])

########Training the model for 10 epochs
model.fit(x_train , y_train , epochs=10)

########Evaluating the model
model.evaluate(x_test , y_test , verbose=2)


p_model = tf.keras.models.Sequential([model , tf.keras.layers.Softmax()])
predictions = p_model.predict(x_test)




############## predicting and plotting

plt.figure(figsize = (12,10))
for i in range(15):
  plt.subplot(5,6,2*i+1)
  plt.xticks([])
  plt.yticks([])
  plt.grid(False)
  predict = np.argmax(predictions[i])
  if predict == y_test[i]:
    color = 'blue'
  else:
    color = 'red'
  plt.imshow(x_test[i] , cmap = plt.cm.gray_r)
  plt.xlabel('{} {:2.0f}% ({})'.format(csv_columns[predict],100*np.max(predictions[i]),csv_columns[y_test[i]]))
  plt.subplot(5,6,2*i+2)
  plt.grid(False)
  plt.xticks(range(10))
  plt.yticks([])
  myplot = plt.bar(range(10), predictions[i], color="#777777")
  plt.ylim([0, 1])
  myplot[predict].set_color('red')
  myplot[y_test[i]].set_color('blue')
  plt.tight_layout()
  plt.show()


